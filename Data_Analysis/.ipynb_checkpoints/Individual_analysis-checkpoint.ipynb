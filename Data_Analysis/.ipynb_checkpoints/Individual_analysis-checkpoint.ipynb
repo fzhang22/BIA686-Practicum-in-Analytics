{
 "cells": [
  {
   "cell_type": "code",
   "execution_count": 1,
   "metadata": {},
   "outputs": [],
   "source": [
    "import pandas as pd\n",
    "import matplotlib.pyplot as plt"
   ]
  },
  {
   "cell_type": "code",
   "execution_count": 2,
   "metadata": {},
   "outputs": [],
   "source": [
    "# use Excel to clean the dataset and read it by pandas\n",
    "pd.set_option('display.max_colwidth', 100)\n",
    "file_path = \"~/Documents/zf/SIT/BIA686/Data_Analysis/dataset/books.csv\"\n",
    "df = pd.read_csv(file_path)"
   ]
  },
  {
   "cell_type": "code",
   "execution_count": 3,
   "metadata": {},
   "outputs": [
    {
     "data": {
      "text/html": [
       "<div>\n",
       "<style scoped>\n",
       "    .dataframe tbody tr th:only-of-type {\n",
       "        vertical-align: middle;\n",
       "    }\n",
       "\n",
       "    .dataframe tbody tr th {\n",
       "        vertical-align: top;\n",
       "    }\n",
       "\n",
       "    .dataframe thead th {\n",
       "        text-align: right;\n",
       "    }\n",
       "</style>\n",
       "<table border=\"1\" class=\"dataframe\">\n",
       "  <thead>\n",
       "    <tr style=\"text-align: right;\">\n",
       "      <th></th>\n",
       "      <th>bookID</th>\n",
       "      <th>title</th>\n",
       "      <th>authors</th>\n",
       "      <th>average_rating</th>\n",
       "      <th>isbn</th>\n",
       "      <th>isbn13</th>\n",
       "      <th>language_code</th>\n",
       "      <th># num_pages</th>\n",
       "      <th>ratings_count</th>\n",
       "      <th>text_reviews_count</th>\n",
       "    </tr>\n",
       "  </thead>\n",
       "  <tbody>\n",
       "    <tr>\n",
       "      <th>0</th>\n",
       "      <td>1</td>\n",
       "      <td>Harry Potter and the Half-Blood Prince (Harry Potter  #6)</td>\n",
       "      <td>J.K. Rowling-Mary GrandPr√©</td>\n",
       "      <td>4.56</td>\n",
       "      <td>439785960</td>\n",
       "      <td>9.78044E+12</td>\n",
       "      <td>eng</td>\n",
       "      <td>652</td>\n",
       "      <td>1944099</td>\n",
       "      <td>26249</td>\n",
       "    </tr>\n",
       "    <tr>\n",
       "      <th>1</th>\n",
       "      <td>2</td>\n",
       "      <td>Harry Potter and the Order of the Phoenix (Harry Potter  #5)</td>\n",
       "      <td>J.K. Rowling-Mary GrandPr√©</td>\n",
       "      <td>4.49</td>\n",
       "      <td>439358078</td>\n",
       "      <td>9.78044E+12</td>\n",
       "      <td>eng</td>\n",
       "      <td>870</td>\n",
       "      <td>1996446</td>\n",
       "      <td>27613</td>\n",
       "    </tr>\n",
       "    <tr>\n",
       "      <th>2</th>\n",
       "      <td>3</td>\n",
       "      <td>Harry Potter and the Sorcerer's Stone (Harry Potter  #1)</td>\n",
       "      <td>J.K. Rowling-Mary GrandPr√©</td>\n",
       "      <td>4.47</td>\n",
       "      <td>439554934</td>\n",
       "      <td>9.78044E+12</td>\n",
       "      <td>eng</td>\n",
       "      <td>320</td>\n",
       "      <td>5629932</td>\n",
       "      <td>70390</td>\n",
       "    </tr>\n",
       "    <tr>\n",
       "      <th>3</th>\n",
       "      <td>4</td>\n",
       "      <td>Harry Potter and the Chamber of Secrets (Harry Potter  #2)</td>\n",
       "      <td>J.K. Rowling</td>\n",
       "      <td>4.41</td>\n",
       "      <td>439554896</td>\n",
       "      <td>9.78044E+12</td>\n",
       "      <td>eng</td>\n",
       "      <td>352</td>\n",
       "      <td>6267</td>\n",
       "      <td>272</td>\n",
       "    </tr>\n",
       "    <tr>\n",
       "      <th>4</th>\n",
       "      <td>5</td>\n",
       "      <td>Harry Potter and the Prisoner of Azkaban (Harry Potter  #3)</td>\n",
       "      <td>J.K. Rowling-Mary GrandPr√©</td>\n",
       "      <td>4.55</td>\n",
       "      <td>043965548X</td>\n",
       "      <td>9.78044E+12</td>\n",
       "      <td>eng</td>\n",
       "      <td>435</td>\n",
       "      <td>2149872</td>\n",
       "      <td>33964</td>\n",
       "    </tr>\n",
       "  </tbody>\n",
       "</table>\n",
       "</div>"
      ],
      "text/plain": [
       "   bookID                                                         title  \\\n",
       "0       1     Harry Potter and the Half-Blood Prince (Harry Potter  #6)   \n",
       "1       2  Harry Potter and the Order of the Phoenix (Harry Potter  #5)   \n",
       "2       3      Harry Potter and the Sorcerer's Stone (Harry Potter  #1)   \n",
       "3       4    Harry Potter and the Chamber of Secrets (Harry Potter  #2)   \n",
       "4       5   Harry Potter and the Prisoner of Azkaban (Harry Potter  #3)   \n",
       "\n",
       "                       authors average_rating        isbn       isbn13  \\\n",
       "0  J.K. Rowling-Mary GrandPr√©           4.56   439785960  9.78044E+12   \n",
       "1  J.K. Rowling-Mary GrandPr√©           4.49   439358078  9.78044E+12   \n",
       "2  J.K. Rowling-Mary GrandPr√©           4.47   439554934  9.78044E+12   \n",
       "3                 J.K. Rowling           4.41   439554896  9.78044E+12   \n",
       "4  J.K. Rowling-Mary GrandPr√©           4.55  043965548X  9.78044E+12   \n",
       "\n",
       "  language_code # num_pages  ratings_count  text_reviews_count  \n",
       "0           eng         652        1944099               26249  \n",
       "1           eng         870        1996446               27613  \n",
       "2           eng         320        5629932               70390  \n",
       "3           eng         352           6267                 272  \n",
       "4           eng         435        2149872               33964  "
      ]
     },
     "execution_count": 3,
     "metadata": {},
     "output_type": "execute_result"
    }
   ],
   "source": [
    "df.head()"
   ]
  },
  {
   "cell_type": "code",
   "execution_count": 4,
   "metadata": {},
   "outputs": [
    {
     "name": "stdout",
     "output_type": "stream",
     "text": [
      "There are 13719 books in the dataset\n"
     ]
    }
   ],
   "source": [
    "print(\"There are\", len(df.index), \"books in the dataset\")"
   ]
  },
  {
   "cell_type": "code",
   "execution_count": 5,
   "metadata": {},
   "outputs": [
    {
     "data": {
      "text/plain": [
       "<matplotlib.axes._subplots.AxesSubplot at 0x11e320940>"
      ]
     },
     "execution_count": 5,
     "metadata": {},
     "output_type": "execute_result"
    },
    {
     "data": {
      "image/png": "[encoded data removed]",
      "text/plain": [
       "<Figure size 432x288 with 1 Axes>"
      ]
     },
     "metadata": {
      "needs_background": "light"
     },
     "output_type": "display_data"
    }
   ],
   "source": [
    "# check the distributions of average_rating from 0 - 5\n",
    "avg_rating = pd.to_numeric(df[\"average_rating\"], errors=\"coerce\")\n",
    "avg_rating.plot.hist()"
   ]
  },
  {
   "cell_type": "code",
   "execution_count": 6,
   "metadata": {},
   "outputs": [
    {
     "data": {
      "text/plain": [
       "eng      10594\n",
       "en-US     1699\n",
       "spa        419\n",
       "en-GB      341\n",
       "ger        238\n",
       "fre        209\n",
       "jpn         64\n",
       "por         27\n",
       "mul         21\n",
       "ita         19\n",
       "Name: language_code, dtype: int64"
      ]
     },
     "execution_count": 6,
     "metadata": {},
     "output_type": "execute_result"
    }
   ],
   "source": [
    "# The top 10 used languages used in book dataset\n",
    "df.language_code.value_counts().head(10)"
   ]
  },
  {
   "cell_type": "code",
   "execution_count": 7,
   "metadata": {},
   "outputs": [
    {
     "data": {
      "text/plain": [
       "<matplotlib.axes._subplots.AxesSubplot at 0x10bc43160>"
      ]
     },
     "execution_count": 7,
     "metadata": {},
     "output_type": "execute_result"
    },
    {
     "data": {
      "image/png": "[encoded data removed]",
      "text/plain": [
       "<Figure size 432x288 with 1 Axes>"
      ]
     },
     "metadata": {
      "needs_background": "light"
     },
     "output_type": "display_data"
    }
   ],
   "source": [
    "# get the bar plot\n",
    "df.language_code.value_counts().head(10).plot(kind = \"bar\")"
   ]
  },
  {
   "cell_type": "code",
   "execution_count": 8,
   "metadata": {},
   "outputs": [],
   "source": [
    "# remove rows contain non-numeric value in num_pages column\n",
    "if df[\"# num_pages\"].dtypes == \"object\":\n",
    "    df = df[df[\"# num_pages\"].apply(lambda x: x.isnumeric())]"
   ]
  },
  {
   "cell_type": "code",
   "execution_count": 9,
   "metadata": {},
   "outputs": [
    {
     "data": {
      "text/plain": [
       "bookID                  int64\n",
       "title                  object\n",
       "authors                object\n",
       "average_rating        float64\n",
       "isbn                   object\n",
       "isbn13                 object\n",
       "language_code          object\n",
       "# num_pages             int64\n",
       "ratings_count           int64\n",
       "text_reviews_count      int64\n",
       "dtype: object"
      ]
     },
     "execution_count": 9,
     "metadata": {},
     "output_type": "execute_result"
    }
   ],
   "source": [
    "# cast average_rating into float\n",
    "# cast num_pages into int64\n",
    "df = df.astype({\n",
    "               'average_rating': 'float',\n",
    "               '# num_pages': 'int64'\n",
    "                })\n",
    "df.dtypes"
   ]
  },
  {
   "cell_type": "code",
   "execution_count": 10,
   "metadata": {},
   "outputs": [
    {
     "data": {
      "image/png": "[encoded data removed]",
      "text/plain": [
       "<Figure size 432x288 with 1 Axes>"
      ]
     },
     "metadata": {
      "needs_background": "light"
     },
     "output_type": "display_data"
    }
   ],
   "source": [
    "# plot the number of pages distribution in book dataset\n",
    "num_page_plot = df[\"# num_pages\"].plot.hist()\n",
    "num_page_plot = num_page_plot.set_xlim(0, 2000)"
   ]
  },
  {
   "cell_type": "code",
   "execution_count": 11,
   "metadata": {},
   "outputs": [
    {
     "data": {
      "text/plain": [
       "<matplotlib.collections.PathCollection at 0x11de33588>"
      ]
     },
     "execution_count": 11,
     "metadata": {},
     "output_type": "execute_result"
    },
    {
     "data": {
      "image/png": "[encoded data removed]",
      "text/plain": [
       "<Figure size 432x288 with 1 Axes>"
      ]
     },
     "metadata": {
      "needs_background": "light"
     },
     "output_type": "display_data"
    }
   ],
   "source": [
    "plt.figure()\n",
    "x = df[\"ratings_count\"]\n",
    "y = df[\"text_reviews_count\"]\n",
    "\n",
    "plt.xlabel('ratings_count', fontsize = 12)\n",
    "plt.ylabel('text_reviews_count', fontsize = 12)\n",
    "\n",
    "plt.xlim(0, 2500000)\n",
    "plt.scatter(x, y)"
   ]
  },
  {
   "cell_type": "code",
   "execution_count": 12,
   "metadata": {},
   "outputs": [
    {
     "data": {
      "text/html": [
       "<div>\n",
       "<style scoped>\n",
       "    .dataframe tbody tr th:only-of-type {\n",
       "        vertical-align: middle;\n",
       "    }\n",
       "\n",
       "    .dataframe tbody tr th {\n",
       "        vertical-align: top;\n",
       "    }\n",
       "\n",
       "    .dataframe thead th {\n",
       "        text-align: right;\n",
       "    }\n",
       "</style>\n",
       "<table border=\"1\" class=\"dataframe\">\n",
       "  <thead>\n",
       "    <tr style=\"text-align: right;\">\n",
       "      <th></th>\n",
       "      <th>bookID</th>\n",
       "      <th>title</th>\n",
       "      <th>authors</th>\n",
       "      <th>average_rating</th>\n",
       "      <th>isbn</th>\n",
       "      <th>isbn13</th>\n",
       "      <th>language_code</th>\n",
       "      <th># num_pages</th>\n",
       "      <th>ratings_count</th>\n",
       "      <th>text_reviews_count</th>\n",
       "    </tr>\n",
       "  </thead>\n",
       "  <tbody>\n",
       "    <tr>\n",
       "      <th>0</th>\n",
       "      <td>1</td>\n",
       "      <td>Harry Potter and the Half-Blood Prince (Harry Potter  #6)</td>\n",
       "      <td>J.K. Rowling-Mary GrandPr√©</td>\n",
       "      <td>4.56</td>\n",
       "      <td>439785960</td>\n",
       "      <td>9.78044E+12</td>\n",
       "      <td>eng</td>\n",
       "      <td>652</td>\n",
       "      <td>1944099</td>\n",
       "      <td>26249</td>\n",
       "    </tr>\n",
       "    <tr>\n",
       "      <th>4</th>\n",
       "      <td>5</td>\n",
       "      <td>Harry Potter and the Prisoner of Azkaban (Harry Potter  #3)</td>\n",
       "      <td>J.K. Rowling-Mary GrandPr√©</td>\n",
       "      <td>4.55</td>\n",
       "      <td>043965548X</td>\n",
       "      <td>9.78044E+12</td>\n",
       "      <td>eng</td>\n",
       "      <td>435</td>\n",
       "      <td>2149872</td>\n",
       "      <td>33964</td>\n",
       "    </tr>\n",
       "    <tr>\n",
       "      <th>1</th>\n",
       "      <td>2</td>\n",
       "      <td>Harry Potter and the Order of the Phoenix (Harry Potter  #5)</td>\n",
       "      <td>J.K. Rowling-Mary GrandPr√©</td>\n",
       "      <td>4.49</td>\n",
       "      <td>439358078</td>\n",
       "      <td>9.78044E+12</td>\n",
       "      <td>eng</td>\n",
       "      <td>870</td>\n",
       "      <td>1996446</td>\n",
       "      <td>27613</td>\n",
       "    </tr>\n",
       "    <tr>\n",
       "      <th>2</th>\n",
       "      <td>3</td>\n",
       "      <td>Harry Potter and the Sorcerer's Stone (Harry Potter  #1)</td>\n",
       "      <td>J.K. Rowling-Mary GrandPr√©</td>\n",
       "      <td>4.47</td>\n",
       "      <td>439554934</td>\n",
       "      <td>9.78044E+12</td>\n",
       "      <td>eng</td>\n",
       "      <td>320</td>\n",
       "      <td>5629932</td>\n",
       "      <td>70390</td>\n",
       "    </tr>\n",
       "    <tr>\n",
       "      <th>4456</th>\n",
       "      <td>13496</td>\n",
       "      <td>A Game of Thrones (A Song of Ice and Fire  #1)</td>\n",
       "      <td>George R.R. Martin</td>\n",
       "      <td>4.45</td>\n",
       "      <td>553588486</td>\n",
       "      <td>9.78055E+12</td>\n",
       "      <td>eng</td>\n",
       "      <td>848</td>\n",
       "      <td>1598396</td>\n",
       "      <td>37379</td>\n",
       "    </tr>\n",
       "    <tr>\n",
       "      <th>5301</th>\n",
       "      <td>15881</td>\n",
       "      <td>Harry Potter and the Chamber of Secrets (Harry Potter  #2)</td>\n",
       "      <td>J.K. Rowling-Mary GrandPr√©</td>\n",
       "      <td>4.41</td>\n",
       "      <td>439064864</td>\n",
       "      <td>9.78044E+12</td>\n",
       "      <td>eng</td>\n",
       "      <td>341</td>\n",
       "      <td>2115562</td>\n",
       "      <td>32694</td>\n",
       "    </tr>\n",
       "    <tr>\n",
       "      <th>6365</th>\n",
       "      <td>19063</td>\n",
       "      <td>The Book Thief</td>\n",
       "      <td>Markus Zusak</td>\n",
       "      <td>4.37</td>\n",
       "      <td>375831002</td>\n",
       "      <td>9.78038E+12</td>\n",
       "      <td>eng</td>\n",
       "      <td>552</td>\n",
       "      <td>1410666</td>\n",
       "      <td>84237</td>\n",
       "    </tr>\n",
       "    <tr>\n",
       "      <th>25</th>\n",
       "      <td>34</td>\n",
       "      <td>The Fellowship of the Ring (The Lord of the Rings  #1)</td>\n",
       "      <td>J.R.R. Tolkien</td>\n",
       "      <td>4.35</td>\n",
       "      <td>618346252</td>\n",
       "      <td>9.78062E+12</td>\n",
       "      <td>eng</td>\n",
       "      <td>398</td>\n",
       "      <td>2009749</td>\n",
       "      <td>12784</td>\n",
       "    </tr>\n",
       "    <tr>\n",
       "      <th>9322</th>\n",
       "      <td>30119</td>\n",
       "      <td>Where the Sidewalk Ends</td>\n",
       "      <td>Shel Silverstein</td>\n",
       "      <td>4.30</td>\n",
       "      <td>60513039</td>\n",
       "      <td>9.78006E+12</td>\n",
       "      <td>eng</td>\n",
       "      <td>176</td>\n",
       "      <td>1094416</td>\n",
       "      <td>9754</td>\n",
       "    </tr>\n",
       "    <tr>\n",
       "      <th>2000</th>\n",
       "      <td>5907</td>\n",
       "      <td>The Hobbit or There and Back Again</td>\n",
       "      <td>J.R.R. Tolkien</td>\n",
       "      <td>4.26</td>\n",
       "      <td>618260307</td>\n",
       "      <td>9.78062E+12</td>\n",
       "      <td>eng</td>\n",
       "      <td>366</td>\n",
       "      <td>2364968</td>\n",
       "      <td>31664</td>\n",
       "    </tr>\n",
       "  </tbody>\n",
       "</table>\n",
       "</div>"
      ],
      "text/plain": [
       "      bookID                                                         title  \\\n",
       "0          1     Harry Potter and the Half-Blood Prince (Harry Potter  #6)   \n",
       "4          5   Harry Potter and the Prisoner of Azkaban (Harry Potter  #3)   \n",
       "1          2  Harry Potter and the Order of the Phoenix (Harry Potter  #5)   \n",
       "2          3      Harry Potter and the Sorcerer's Stone (Harry Potter  #1)   \n",
       "4456   13496                A Game of Thrones (A Song of Ice and Fire  #1)   \n",
       "5301   15881    Harry Potter and the Chamber of Secrets (Harry Potter  #2)   \n",
       "6365   19063                                                The Book Thief   \n",
       "25        34        The Fellowship of the Ring (The Lord of the Rings  #1)   \n",
       "9322   30119                                       Where the Sidewalk Ends   \n",
       "2000    5907                            The Hobbit or There and Back Again   \n",
       "\n",
       "                          authors  average_rating        isbn       isbn13  \\\n",
       "0     J.K. Rowling-Mary GrandPr√©            4.56   439785960  9.78044E+12   \n",
       "4     J.K. Rowling-Mary GrandPr√©            4.55  043965548X  9.78044E+12   \n",
       "1     J.K. Rowling-Mary GrandPr√©            4.49   439358078  9.78044E+12   \n",
       "2     J.K. Rowling-Mary GrandPr√©            4.47   439554934  9.78044E+12   \n",
       "4456           George R.R. Martin            4.45   553588486  9.78055E+12   \n",
       "5301  J.K. Rowling-Mary GrandPr√©            4.41   439064864  9.78044E+12   \n",
       "6365                 Markus Zusak            4.37   375831002  9.78038E+12   \n",
       "25                 J.R.R. Tolkien            4.35   618346252  9.78062E+12   \n",
       "9322             Shel Silverstein            4.30    60513039  9.78006E+12   \n",
       "2000               J.R.R. Tolkien            4.26   618260307  9.78062E+12   \n",
       "\n",
       "     language_code  # num_pages  ratings_count  text_reviews_count  \n",
       "0              eng          652        1944099               26249  \n",
       "4              eng          435        2149872               33964  \n",
       "1              eng          870        1996446               27613  \n",
       "2              eng          320        5629932               70390  \n",
       "4456           eng          848        1598396               37379  \n",
       "5301           eng          341        2115562               32694  \n",
       "6365           eng          552        1410666               84237  \n",
       "25             eng          398        2009749               12784  \n",
       "9322           eng          176        1094416                9754  \n",
       "2000           eng          366        2364968               31664  "
      ]
     },
     "execution_count": 12,
     "metadata": {},
     "output_type": "execute_result"
    }
   ],
   "source": [
    "# find highest average rating books with >= 1,000,000 ratings_count\n",
    "df.query(\"ratings_count >= 1000000\").sort_values(by = [\"average_rating\"], ascending = False).head(10)"
   ]
  },
  {
   "cell_type": "code",
   "execution_count": 13,
   "metadata": {},
   "outputs": [
    {
     "data": {
      "text/html": [
       "<div>\n",
       "<style scoped>\n",
       "    .dataframe tbody tr th:only-of-type {\n",
       "        vertical-align: middle;\n",
       "    }\n",
       "\n",
       "    .dataframe tbody tr th {\n",
       "        vertical-align: top;\n",
       "    }\n",
       "\n",
       "    .dataframe thead th {\n",
       "        text-align: right;\n",
       "    }\n",
       "</style>\n",
       "<table border=\"1\" class=\"dataframe\">\n",
       "  <thead>\n",
       "    <tr style=\"text-align: right;\">\n",
       "      <th></th>\n",
       "      <th>bookID</th>\n",
       "      <th>title</th>\n",
       "      <th>authors</th>\n",
       "      <th>average_rating</th>\n",
       "      <th>isbn</th>\n",
       "      <th>isbn13</th>\n",
       "      <th>language_code</th>\n",
       "      <th># num_pages</th>\n",
       "      <th>ratings_count</th>\n",
       "      <th>text_reviews_count</th>\n",
       "    </tr>\n",
       "  </thead>\n",
       "  <tbody>\n",
       "    <tr>\n",
       "      <th>0</th>\n",
       "      <td>1</td>\n",
       "      <td>Harry Potter and the Half-Blood Prince (Harry Potter  #6)</td>\n",
       "      <td>J.K. Rowling-Mary GrandPr√©</td>\n",
       "      <td>4.56</td>\n",
       "      <td>439785960</td>\n",
       "      <td>9.78044E+12</td>\n",
       "      <td>eng</td>\n",
       "      <td>652</td>\n",
       "      <td>1944099</td>\n",
       "      <td>26249</td>\n",
       "    </tr>\n",
       "    <tr>\n",
       "      <th>4</th>\n",
       "      <td>5</td>\n",
       "      <td>Harry Potter and the Prisoner of Azkaban (Harry Potter  #3)</td>\n",
       "      <td>J.K. Rowling-Mary GrandPr√©</td>\n",
       "      <td>4.55</td>\n",
       "      <td>043965548X</td>\n",
       "      <td>9.78044E+12</td>\n",
       "      <td>eng</td>\n",
       "      <td>435</td>\n",
       "      <td>2149872</td>\n",
       "      <td>33964</td>\n",
       "    </tr>\n",
       "    <tr>\n",
       "      <th>1</th>\n",
       "      <td>2</td>\n",
       "      <td>Harry Potter and the Order of the Phoenix (Harry Potter  #5)</td>\n",
       "      <td>J.K. Rowling-Mary GrandPr√©</td>\n",
       "      <td>4.49</td>\n",
       "      <td>439358078</td>\n",
       "      <td>9.78044E+12</td>\n",
       "      <td>eng</td>\n",
       "      <td>870</td>\n",
       "      <td>1996446</td>\n",
       "      <td>27613</td>\n",
       "    </tr>\n",
       "    <tr>\n",
       "      <th>2</th>\n",
       "      <td>3</td>\n",
       "      <td>Harry Potter and the Sorcerer's Stone (Harry Potter  #1)</td>\n",
       "      <td>J.K. Rowling-Mary GrandPr√©</td>\n",
       "      <td>4.47</td>\n",
       "      <td>439554934</td>\n",
       "      <td>9.78044E+12</td>\n",
       "      <td>eng</td>\n",
       "      <td>320</td>\n",
       "      <td>5629932</td>\n",
       "      <td>70390</td>\n",
       "    </tr>\n",
       "    <tr>\n",
       "      <th>4456</th>\n",
       "      <td>13496</td>\n",
       "      <td>A Game of Thrones (A Song of Ice and Fire  #1)</td>\n",
       "      <td>George R.R. Martin</td>\n",
       "      <td>4.45</td>\n",
       "      <td>553588486</td>\n",
       "      <td>9.78055E+12</td>\n",
       "      <td>eng</td>\n",
       "      <td>848</td>\n",
       "      <td>1598396</td>\n",
       "      <td>37379</td>\n",
       "    </tr>\n",
       "    <tr>\n",
       "      <th>3399</th>\n",
       "      <td>10572</td>\n",
       "      <td>A Clash of Kings  (A Song of Ice and Fire  #2)</td>\n",
       "      <td>George R.R. Martin-Lauren Cannon</td>\n",
       "      <td>4.41</td>\n",
       "      <td>553381695</td>\n",
       "      <td>9.78055E+12</td>\n",
       "      <td>eng</td>\n",
       "      <td>969</td>\n",
       "      <td>599010</td>\n",
       "      <td>15978</td>\n",
       "    </tr>\n",
       "    <tr>\n",
       "      <th>5301</th>\n",
       "      <td>15881</td>\n",
       "      <td>Harry Potter and the Chamber of Secrets (Harry Potter  #2)</td>\n",
       "      <td>J.K. Rowling-Mary GrandPr√©</td>\n",
       "      <td>4.41</td>\n",
       "      <td>439064864</td>\n",
       "      <td>9.78044E+12</td>\n",
       "      <td>eng</td>\n",
       "      <td>341</td>\n",
       "      <td>2115562</td>\n",
       "      <td>32694</td>\n",
       "    </tr>\n",
       "    <tr>\n",
       "      <th>6365</th>\n",
       "      <td>19063</td>\n",
       "      <td>The Book Thief</td>\n",
       "      <td>Markus Zusak</td>\n",
       "      <td>4.37</td>\n",
       "      <td>375831002</td>\n",
       "      <td>9.78038E+12</td>\n",
       "      <td>eng</td>\n",
       "      <td>552</td>\n",
       "      <td>1410666</td>\n",
       "      <td>84237</td>\n",
       "    </tr>\n",
       "    <tr>\n",
       "      <th>1485</th>\n",
       "      <td>4406</td>\n",
       "      <td>East of Eden</td>\n",
       "      <td>John Steinbeck</td>\n",
       "      <td>4.37</td>\n",
       "      <td>142000655</td>\n",
       "      <td>9.78014E+12</td>\n",
       "      <td>eng</td>\n",
       "      <td>601</td>\n",
       "      <td>358668</td>\n",
       "      <td>14740</td>\n",
       "    </tr>\n",
       "    <tr>\n",
       "      <th>1385</th>\n",
       "      <td>4069</td>\n",
       "      <td>Man's Search for Meaning</td>\n",
       "      <td>Viktor E. Frankl-Harold S. Kushner-William J. Winslade-Isle Lasch</td>\n",
       "      <td>4.36</td>\n",
       "      <td>080701429X</td>\n",
       "      <td>9.78081E+12</td>\n",
       "      <td>eng</td>\n",
       "      <td>165</td>\n",
       "      <td>242691</td>\n",
       "      <td>11714</td>\n",
       "    </tr>\n",
       "  </tbody>\n",
       "</table>\n",
       "</div>"
      ],
      "text/plain": [
       "      bookID                                                         title  \\\n",
       "0          1     Harry Potter and the Half-Blood Prince (Harry Potter  #6)   \n",
       "4          5   Harry Potter and the Prisoner of Azkaban (Harry Potter  #3)   \n",
       "1          2  Harry Potter and the Order of the Phoenix (Harry Potter  #5)   \n",
       "2          3      Harry Potter and the Sorcerer's Stone (Harry Potter  #1)   \n",
       "4456   13496                A Game of Thrones (A Song of Ice and Fire  #1)   \n",
       "3399   10572                A Clash of Kings  (A Song of Ice and Fire  #2)   \n",
       "5301   15881    Harry Potter and the Chamber of Secrets (Harry Potter  #2)   \n",
       "6365   19063                                                The Book Thief   \n",
       "1485    4406                                                  East of Eden   \n",
       "1385    4069                                      Man's Search for Meaning   \n",
       "\n",
       "                                                                authors  \\\n",
       "0                                           J.K. Rowling-Mary GrandPr√©   \n",
       "4                                           J.K. Rowling-Mary GrandPr√©   \n",
       "1                                           J.K. Rowling-Mary GrandPr√©   \n",
       "2                                           J.K. Rowling-Mary GrandPr√©   \n",
       "4456                                                 George R.R. Martin   \n",
       "3399                                   George R.R. Martin-Lauren Cannon   \n",
       "5301                                        J.K. Rowling-Mary GrandPr√©   \n",
       "6365                                                       Markus Zusak   \n",
       "1485                                                     John Steinbeck   \n",
       "1385  Viktor E. Frankl-Harold S. Kushner-William J. Winslade-Isle Lasch   \n",
       "\n",
       "      average_rating        isbn       isbn13 language_code  # num_pages  \\\n",
       "0               4.56   439785960  9.78044E+12           eng          652   \n",
       "4               4.55  043965548X  9.78044E+12           eng          435   \n",
       "1               4.49   439358078  9.78044E+12           eng          870   \n",
       "2               4.47   439554934  9.78044E+12           eng          320   \n",
       "4456            4.45   553588486  9.78055E+12           eng          848   \n",
       "3399            4.41   553381695  9.78055E+12           eng          969   \n",
       "5301            4.41   439064864  9.78044E+12           eng          341   \n",
       "6365            4.37   375831002  9.78038E+12           eng          552   \n",
       "1485            4.37   142000655  9.78014E+12           eng          601   \n",
       "1385            4.36  080701429X  9.78081E+12           eng          165   \n",
       "\n",
       "      ratings_count  text_reviews_count  \n",
       "0           1944099               26249  \n",
       "4           2149872               33964  \n",
       "1           1996446               27613  \n",
       "2           5629932               70390  \n",
       "4456        1598396               37379  \n",
       "3399         599010               15978  \n",
       "5301        2115562               32694  \n",
       "6365        1410666               84237  \n",
       "1485         358668               14740  \n",
       "1385         242691               11714  "
      ]
     },
     "execution_count": 13,
     "metadata": {},
     "output_type": "execute_result"
    }
   ],
   "source": [
    "# find find highest average rating books with >= 10,000 text_reviews_count\n",
    "df.query(\"text_reviews_count >= 10000\").sort_values(by = [\"average_rating\"], ascending = False).head(10)"
   ]
  },
  {
   "cell_type": "code",
   "execution_count": 14,
   "metadata": {},
   "outputs": [
    {
     "data": {
      "text/plain": [
       "authors\n",
       "Agatha Christie                69\n",
       "Stephen King                   66\n",
       "Orson Scott Card               48\n",
       "Rumiko Takahashi               46\n",
       "P.G. Wodehouse                 42\n",
       "Terry Brooks                   40\n",
       "Piers Anthony                  34\n",
       "Margaret Weis-Tracy Hickman    33\n",
       "Dan Simmons                    32\n",
       "J.R.R. Tolkien                 31\n",
       "dtype: int64"
      ]
     },
     "execution_count": 14,
     "metadata": {},
     "output_type": "execute_result"
    }
   ],
   "source": [
    "# Find top 10 authors wrote most number of books\n",
    "productive_author = df.groupby(\"authors\").apply(lambda x: x[\"title\"].count())\n",
    "productive_author = productive_author.sort_values(ascending = False)\n",
    "productive_author.head(10)"
   ]
  },
  {
   "cell_type": "code",
   "execution_count": 17,
   "metadata": {},
   "outputs": [
    {
     "data": {
      "text/plain": [
       "authors\n",
       "James E. Campbell                                                                                            5.0\n",
       "Ian        Martin-Katie Elliott                                                                              5.0\n",
       "Todd Davis-Marc Frey                                                                                         5.0\n",
       "Jean-Paul Gabilliet-Fran√ßois Gallix-Janice Fiamengo-Raphaelle Costa de Beauregard-Priscilla Morin-Ollier    5.0\n",
       "Aristophanes-F.W. Hall-W.M. Geldart                                                                          5.0\n",
       "Ross Garnaut                                                                                                 5.0\n",
       "Dennis Adler-R.L. Wilson                                                                                     5.0\n",
       "Chris    Green-Chris Wright-Paul Douglas Gardner                                                             5.0\n",
       "Middlesex Borough Heritage Committee                                                                         5.0\n",
       "Sara Barton-Wood                                                                                             5.0\n",
       "dtype: float64"
      ]
     },
     "execution_count": 17,
     "metadata": {},
     "output_type": "execute_result"
    }
   ],
   "source": [
    "# Find top 10 authors with highest average ratings of his all written books\n",
    "author = df.groupby(\"authors\").apply(lambda x: x[\"average_rating\"].sum()/len(x))\n",
    "author = author.sort_values(ascending = False)\n",
    "author.head(10)"
   ]
  },
  {
   "cell_type": "code",
   "execution_count": 16,
   "metadata": {},
   "outputs": [
    {
     "data": {
      "text/plain": [
       "authors\n",
       "J.K. Rowling-Mary GrandPr√©    13875449\n",
       "J.R.R. Tolkien                  5044183\n",
       "Dan Brown                       4416542\n",
       "Stephenie Meyer                 4369733\n",
       "Stephen King                    4342510\n",
       "Nicholas Sparks                 3149166\n",
       "J.D. Salinger                   2653050\n",
       "John Steinbeck                  2353640\n",
       "Rick Riordan                    2255429\n",
       "Roald Dahl-Quentin Blake        2210694\n",
       "dtype: int64"
      ]
     },
     "execution_count": 16,
     "metadata": {},
     "output_type": "execute_result"
    }
   ],
   "source": [
    "# Find most popular authors with most number of ratings_count from his all books\n",
    "popular_authors = df.groupby(\"authors\").apply(lambda x: x[\"ratings_count\"].sum())\n",
    "popular_authors.sort_values(ascending = False).head(10)"
   ]
  },
  {
   "cell_type": "code",
   "execution_count": null,
   "metadata": {},
   "outputs": [],
   "source": []
  },
  {
   "cell_type": "code",
   "execution_count": null,
   "metadata": {},
   "outputs": [],
   "source": []
  },
  {
   "cell_type": "code",
   "execution_count": null,
   "metadata": {},
   "outputs": [],
   "source": []
  }
 ],
 "metadata": {
  "kernelspec": {
   "display_name": "Python 3",
   "language": "python",
   "name": "python3"
  },
  "language_info": {
   "codemirror_mode": {
    "name": "ipython",
    "version": 3
   },
   "file_extension": ".py",
   "mimetype": "text/x-python",
   "name": "python",
   "nbconvert_exporter": "python",
   "pygments_lexer": "ipython3",
   "version": "3.7.1"
  }
 },
 "nbformat": 4,
 "nbformat_minor": 2
}
